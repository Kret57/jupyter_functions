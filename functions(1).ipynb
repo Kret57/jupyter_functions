{
 "cells": [
  {
   "cell_type": "markdown",
   "id": "7b4d040f-7572-4589-b947-7dd82da1ad79",
   "metadata": {},
   "source": [
    "#tworzenie funkcji"
   ]
  },
  {
   "cell_type": "code",
   "execution_count": 2,
   "id": "e9fcc50a-3c7a-47a9-8f4a-bf06d8c0cfef",
   "metadata": {},
   "outputs": [],
   "source": [
    "def dodawanie(a,b):\n",
    "    return a+b"
   ]
  },
  {
   "cell_type": "markdown",
   "id": "616285fb-d4b2-4421-8720-59cac76eed87",
   "metadata": {},
   "source": [
    "#funkcje wywolujemy podajac jej nazwe wraz z parametrami"
   ]
  },
  {
   "cell_type": "code",
   "execution_count": 6,
   "id": "9ff8ee04-c4a1-484d-8f71-4430723420ef",
   "metadata": {},
   "outputs": [
    {
     "data": {
      "text/plain": [
       "9"
      ]
     },
     "execution_count": 6,
     "metadata": {},
     "output_type": "execute_result"
    }
   ],
   "source": [
    "dodawanie(4,5)"
   ]
  },
  {
   "cell_type": "code",
   "execution_count": null,
   "id": "5bc0a44a-78ca-443c-bf10-eecaefe454bf",
   "metadata": {},
   "outputs": [],
   "source": []
  }
 ],
 "metadata": {
  "kernelspec": {
   "display_name": "Python 3 (ipykernel)",
   "language": "python",
   "name": "python3"
  },
  "language_info": {
   "codemirror_mode": {
    "name": "ipython",
    "version": 3
   },
   "file_extension": ".py",
   "mimetype": "text/x-python",
   "name": "python",
   "nbconvert_exporter": "python",
   "pygments_lexer": "ipython3",
   "version": "3.10.12"
  }
 },
 "nbformat": 4,
 "nbformat_minor": 5
}
